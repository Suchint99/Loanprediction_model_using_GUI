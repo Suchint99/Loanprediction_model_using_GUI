{
 "cells": [
  {
   "cell_type": "code",
   "execution_count": 4,
   "id": "cbac62dd",
   "metadata": {},
   "outputs": [],
   "source": [
    "#-------------------------Importing required Libraries----------------------------------------\n",
    "import pandas as pd\n",
    "from tkinter import *\n",
    "from sklearn.model_selection import train_test_split\n",
    "from sklearn.linear_model import LinearRegression\n",
    "import pickle\n",
    "#------------------Loading Preprocessing and Creating the Model----------------------------------\n",
    "df=pd.read_csv('train.csv')\n",
    "X=df.drop(['Loan_Status','Loan_ID'], axis=1)\n",
    "y=df['Loan_Status']\n",
    "X['Gender'].fillna(\"Male\", inplace=True)\n",
    "X['Married'].fillna(\"Yes\", inplace=True)\n",
    "X['Dependents'].fillna(0,inplace=True)\n",
    "X['Self_Employed'].fillna('No',inplace=True)\n",
    "mean_loan=X['LoanAmount'].mean()\n",
    "X['LoanAmount'].fillna(mean_loan,inplace=True)\n",
    "X['Loan_Amount_Term'].fillna(X['Loan_Amount_Term'].mean(),inplace=True)\n",
    "X['Credit_History'].fillna(X['Credit_History'].mean(),inplace=True)\n",
    "X=pd.get_dummies(X)\n",
    "from sklearn.model_selection import train_test_split\n",
    "X_train,X_test,y_train,y_test = train_test_split(X,y,test_size = 0.30)\n",
    "from sklearn.linear_model import LogisticRegression\n",
    "model = LogisticRegression()\n",
    "model.fit(X,y)\n",
    "#------------------Saving the Model----------------------------------\n",
    "with open('Loan_Model','wb') as f:\n",
    "    pickle.dump(model,f)"
   ]
  },
  {
   "cell_type": "code",
   "execution_count": null,
   "id": "b90b76e4",
   "metadata": {},
   "outputs": [],
   "source": []
  },
  {
   "cell_type": "code",
   "execution_count": null,
   "id": "2d45c598",
   "metadata": {},
   "outputs": [],
   "source": []
  }
 ],
 "metadata": {
  "kernelspec": {
   "display_name": "Python 3 (ipykernel)",
   "language": "python",
   "name": "python3"
  },
  "language_info": {
   "codemirror_mode": {
    "name": "ipython",
    "version": 3
   },
   "file_extension": ".py",
   "mimetype": "text/x-python",
   "name": "python",
   "nbconvert_exporter": "python",
   "pygments_lexer": "ipython3",
   "version": "3.10.9"
  }
 },
 "nbformat": 4,
 "nbformat_minor": 5
}
